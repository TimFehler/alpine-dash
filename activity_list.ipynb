{
 "cells": [
  {
   "attachments": {},
   "cell_type": "markdown",
   "metadata": {},
   "source": [
    "## Getting access to data"
   ]
  },
  {
   "cell_type": "code",
   "execution_count": null,
   "metadata": {},
   "outputs": [],
   "source": [
    "from stravalib import Client\n",
    "import pickle\n",
    "import time\n",
    "import pandas as pd\n",
    "\n",
    "client = Client()\n",
    "\n",
    "MY_STRAVA_CLIENT_ID, MY_STRAVA_CLIENT_SECRET = open('access/client.secret').read().strip().split(',')\n",
    "print ('Client ID and secret read from file'.format(MY_STRAVA_CLIENT_ID) )"
   ]
  },
  {
   "cell_type": "code",
   "execution_count": null,
   "metadata": {},
   "outputs": [],
   "source": [
    "with open('access/access_token.pickle', 'rb') as f:\n",
    "    access_token = pickle.load(f)\n",
    "    \n",
    "print('Latest access token read from file:')\n",
    "access_token"
   ]
  },
  {
   "cell_type": "code",
   "execution_count": null,
   "metadata": {},
   "outputs": [],
   "source": [
    "if time.time() > access_token['expires_at']:\n",
    "    print('Token has expired, will refresh')\n",
    "    refresh_response = client.refresh_access_token(client_id=MY_STRAVA_CLIENT_ID, \n",
    "                                               client_secret=MY_STRAVA_CLIENT_SECRET, \n",
    "                                               refresh_token=access_token['refresh_token'])\n",
    "    access_token = refresh_response\n",
    "    with open('access/access_token.pickle', 'wb') as f:\n",
    "        pickle.dump(refresh_response, f)\n",
    "    print('Refreshed token saved to file')\n",
    "\n",
    "    client.access_token = refresh_response['access_token']\n",
    "    client.refresh_token = refresh_response['refresh_token']\n",
    "    client.token_expires_at = refresh_response['expires_at']\n",
    "        \n",
    "else:\n",
    "    print('Token still valid, expires at {}'\n",
    "          .format(time.strftime(\"%a, %d %b %Y %H:%M:%S %Z\", time.localtime(access_token['expires_at']))))\n",
    "\n",
    "    client.access_token = access_token['access_token']\n",
    "    client.refresh_token = access_token['refresh_token']\n",
    "    client.token_expires_at = access_token['expires_at']\n"
   ]
  },
  {
   "cell_type": "code",
   "execution_count": null,
   "metadata": {},
   "outputs": [],
   "source": [
    "athlete = client.get_athlete()\n",
    "print(\"Athlete's name is {} {}, based in {}, {}\".format(athlete.firstname, athlete.lastname, athlete.city, athlete.country))"
   ]
  },
  {
   "attachments": {},
   "cell_type": "markdown",
   "metadata": {},
   "source": [
    "## Analysing the activities"
   ]
  },
  {
   "cell_type": "code",
   "execution_count": null,
   "metadata": {},
   "outputs": [],
   "source": [
    "activities = client.get_activities(limit=20)\n",
    "list(activities)[0:10]"
   ]
  },
  {
   "cell_type": "code",
   "execution_count": null,
   "metadata": {},
   "outputs": [],
   "source": [
    "# Look at one activity to get a view of what's available\n",
    "\n",
    "# sample = list(activities)[0]\n",
    "# sample.to_dict()"
   ]
  },
  {
   "cell_type": "code",
   "execution_count": null,
   "metadata": {},
   "outputs": [],
   "source": [
    "\n",
    "# Choose some fields of interest from this data in order to read into a DataFrame\n",
    "\n",
    "my_cols =['name',\n",
    "          'start_date_local',\n",
    "          'type',\n",
    "          'distance',\n",
    "          'moving_time',\n",
    "          'elapsed_time',\n",
    "          'total_elevation_gain',\n",
    "          'elev_high',\n",
    "          'elev_low',\n",
    "          'average_speed',\n",
    "          'max_speed',\n",
    "          'average_heartrate',\n",
    "          'max_heartrate',\n",
    "          'start_latitude',\n",
    "          'start_longitude']"
   ]
  },
  {
   "cell_type": "code",
   "execution_count": null,
   "metadata": {},
   "outputs": [],
   "source": [
    "data = []\n",
    "for activity in activities:\n",
    "    my_dict = activity.to_dict()\n",
    "    data.append([activity.id]+[my_dict.get(x) for x in my_cols])\n",
    "    \n",
    "# Add id to the beginning of the columns, used when selecting a specific activity\n",
    "my_cols.insert(0,'id')"
   ]
  },
  {
   "cell_type": "code",
   "execution_count": null,
   "metadata": {},
   "outputs": [],
   "source": [
    "df = pd.DataFrame(data, columns=my_cols)\n",
    "df"
   ]
  },
  {
   "cell_type": "code",
   "execution_count": null,
   "metadata": {},
   "outputs": [],
   "source": [
    "df.dtypes"
   ]
  },
  {
   "cell_type": "code",
   "execution_count": null,
   "metadata": {},
   "outputs": [],
   "source": []
  }
 ],
 "metadata": {
  "kernelspec": {
   "display_name": "env",
   "language": "python",
   "name": "python3"
  },
  "language_info": {
   "codemirror_mode": {
    "name": "ipython",
    "version": 3
   },
   "file_extension": ".py",
   "mimetype": "text/x-python",
   "name": "python",
   "nbconvert_exporter": "python",
   "pygments_lexer": "ipython3",
   "version": "3.10.6"
  },
  "vscode": {
   "interpreter": {
    "hash": "ef341708124b6a4023956a4431aa4d1f64fa3e843b1418eb575c4cbc1d168f7d"
   }
  }
 },
 "nbformat": 4,
 "nbformat_minor": 2
}
