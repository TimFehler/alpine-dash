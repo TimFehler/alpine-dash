{
 "cells": [
  {
   "attachments": {},
   "cell_type": "markdown",
   "id": "df571eee",
   "metadata": {},
   "source": [
    "## Getting access to data"
   ]
  },
  {
   "cell_type": "code",
   "execution_count": null,
   "id": "f572af4a",
   "metadata": {},
   "outputs": [],
   "source": [
    "from stravalib import Client\n",
    "import pickle\n",
    "import time\n",
    "import folium\n",
    "import pandas as pd\n",
    "\n",
    "client = Client()\n",
    "\n",
    "MY_STRAVA_CLIENT_ID, MY_STRAVA_CLIENT_SECRET = open('client.secret').read().strip().split(',')\n",
    "print ('Client ID and secret read from file'.format(MY_STRAVA_CLIENT_ID) )"
   ]
  },
  {
   "cell_type": "code",
   "execution_count": null,
   "id": "8cae0b20",
   "metadata": {},
   "outputs": [],
   "source": [
    "with open('access_token.pickle', 'rb') as f:\n",
    "    access_token = pickle.load(f)\n",
    "    \n",
    "print('Latest access token read from file:')\n",
    "access_token"
   ]
  },
  {
   "cell_type": "code",
   "execution_count": null,
   "id": "d1dc2bf1",
   "metadata": {},
   "outputs": [],
   "source": [
    "if time.time() > access_token['expires_at']:\n",
    "    print('Token has expired, will refresh')\n",
    "    refresh_response = client.refresh_access_token(client_id=MY_STRAVA_CLIENT_ID, \n",
    "                                               client_secret=MY_STRAVA_CLIENT_SECRET, \n",
    "                                               refresh_token=access_token['refresh_token'])\n",
    "    access_token = refresh_response\n",
    "    with open('../access_token.pickle', 'wb') as f:\n",
    "        pickle.dump(refresh_response, f)\n",
    "    print('Refreshed token saved to file')\n",
    "\n",
    "    client.access_token = refresh_response['access_token']\n",
    "    client.refresh_token = refresh_response['refresh_token']\n",
    "    client.token_expires_at = refresh_response['expires_at']\n",
    "        \n",
    "else:\n",
    "    print('Token still valid, expires at {}'.format(time.strftime(\"%a, %d %b %Y %H:%M:%S %Z\", time.localtime(access_token['expires_at']))))\n",
    "\n",
    "    client.access_token = access_token['access_token']\n",
    "    client.refresh_token = access_token['refresh_token']\n",
    "    client.token_expires_at = access_token['expires_at']"
   ]
  },
  {
   "cell_type": "code",
   "execution_count": null,
   "id": "5c93fd8c",
   "metadata": {},
   "outputs": [],
   "source": [
    "athlete = client.get_athlete()\n",
    "print(\"Athlete's name is {} {}, based in {}, {}\"\n",
    "      .format(athlete.firstname, athlete.lastname, athlete.city, athlete.country))"
   ]
  },
  {
   "attachments": {},
   "cell_type": "markdown",
   "id": "03e65c17",
   "metadata": {},
   "source": [
    "## Creating the heatmap"
   ]
  },
  {
   "cell_type": "code",
   "execution_count": null,
   "id": "57c55a0f",
   "metadata": {},
   "outputs": [],
   "source": [
    "activities = client.get_activities(limit=20)\n",
    "my_cols =['name',\n",
    "          'start_date_local',\n",
    "          'type',\n",
    "          'distance',\n",
    "          'moving_time',\n",
    "          'elapsed_time',\n",
    "          'total_elevation_gain',\n",
    "          'elev_high',\n",
    "          'elev_low',\n",
    "          'average_speed',\n",
    "          'max_speed',\n",
    "          'average_heartrate',\n",
    "          'max_heartrate',\n",
    "          'start_latitude',\n",
    "          'start_longitude']\n",
    "data = []\n",
    "for activity in activities:\n",
    "    my_dict = activity.to_dict()\n",
    "    data.append([activity.id]+[my_dict.get(x) for x in my_cols])\n",
    "    \n",
    "# Add id to the beginning of the columns, used when selecting a specific activity\n",
    "my_cols.insert(0,'id')\n",
    "\n",
    "df = pd.DataFrame(data, columns=my_cols)"
   ]
  },
  {
   "cell_type": "code",
   "execution_count": null,
   "id": "f60a97b6",
   "metadata": {},
   "outputs": [],
   "source": [
    "df.head()"
   ]
  },
  {
   "cell_type": "code",
   "execution_count": null,
   "id": "87771a6f",
   "metadata": {},
   "outputs": [],
   "source": [
    "mymap = folium.Map(zoom_start=12, tiles='CartoDB dark_matter')\n",
    "color_per_type = {'Ride': 'blue', 'Hike': 'red', 'Run': 'red'}\n",
    "\n",
    "for id, type in zip(df['id'], df['type']):\n",
    "    try:\n",
    "        types = ['time', 'distance', 'latlng', 'altitude', 'velocity_smooth', 'moving', 'grade_smooth']\n",
    "        activity_data=client.get_activity_streams(id, types=types)\n",
    "        if type in color_per_type.keys():\n",
    "            color = color_per_type[type]\n",
    "        else:\n",
    "            color = 'yellow'\n",
    "        folium.PolyLine(activity_data['latlng'].data, color=color, opacity=0.5, weight=2).add_to(mymap)\n",
    "    except:\n",
    "        print(id, type)\n"
   ]
  },
  {
   "cell_type": "code",
   "execution_count": null,
   "id": "0e81ab45",
   "metadata": {},
   "outputs": [],
   "source": [
    "mymap"
   ]
  },
  {
   "cell_type": "code",
   "execution_count": null,
   "id": "1556ed22",
   "metadata": {},
   "outputs": [],
   "source": []
  }
 ],
 "metadata": {
  "kernelspec": {
   "display_name": "Python 3 (ipykernel)",
   "language": "python",
   "name": "python3"
  },
  "language_info": {
   "codemirror_mode": {
    "name": "ipython",
    "version": 3
   },
   "file_extension": ".py",
   "mimetype": "text/x-python",
   "name": "python",
   "nbconvert_exporter": "python",
   "pygments_lexer": "ipython3",
   "version": "3.10.6"
  },
  "vscode": {
   "interpreter": {
    "hash": "ef341708124b6a4023956a4431aa4d1f64fa3e843b1418eb575c4cbc1d168f7d"
   }
  }
 },
 "nbformat": 4,
 "nbformat_minor": 5
}
