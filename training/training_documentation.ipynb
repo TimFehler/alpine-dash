{
 "cells": [
  {
   "attachments": {},
   "cell_type": "markdown",
   "metadata": {},
   "source": [
    "## Getting access to training data"
   ]
  },
  {
   "cell_type": "code",
   "execution_count": null,
   "metadata": {},
   "outputs": [],
   "source": [
    "from stravalib import Client\n",
    "import pickle\n",
    "import time\n",
    "import pandas as pd\n",
    "import datetime\n",
    "import matplotlib\n",
    "import matplotlib.pyplot as plt\n",
    "\n",
    "client = Client()\n",
    "\n",
    "MY_STRAVA_CLIENT_ID, MY_STRAVA_CLIENT_SECRET = open('../access/client.secret').read().strip().split(',')\n",
    "print ('Client ID and secret read from file'.format(MY_STRAVA_CLIENT_ID) )"
   ]
  },
  {
   "attachments": {},
   "cell_type": "markdown",
   "metadata": {},
   "source": [
    "## Getting access token"
   ]
  },
  {
   "cell_type": "code",
   "execution_count": null,
   "metadata": {},
   "outputs": [],
   "source": [
    "with open('../access/access_token.pickle', 'rb') as f:\n",
    "    access_token = pickle.load(f)\n",
    "    \n",
    "print('Latest access token read from file:')\n",
    "access_token"
   ]
  },
  {
   "cell_type": "code",
   "execution_count": null,
   "metadata": {},
   "outputs": [],
   "source": [
    "if time.time() > access_token['expires_at']:\n",
    "    print('Token has expired, will refresh')\n",
    "    refresh_response = client.refresh_access_token(client_id=MY_STRAVA_CLIENT_ID, \n",
    "                                               client_secret=MY_STRAVA_CLIENT_SECRET, \n",
    "                                               refresh_token=access_token['refresh_token'])\n",
    "    access_token = refresh_response\n",
    "    with open('../access/access_token.pickle', 'wb') as f:\n",
    "        pickle.dump(refresh_response, f)\n",
    "    print('Refreshed token saved to file')\n",
    "\n",
    "    client.access_token = refresh_response['access_token']\n",
    "    client.refresh_token = refresh_response['refresh_token']\n",
    "    client.token_expires_at = refresh_response['expires_at']\n",
    "        \n",
    "else:\n",
    "    print('Token still valid, expires at {}'\n",
    "          .format(time.strftime(\"%a, %d %b %Y %H:%M:%S %Z\", time.localtime(access_token['expires_at']))))\n",
    "\n",
    "    client.access_token = access_token['access_token']\n",
    "    client.refresh_token = access_token['refresh_token']\n",
    "    client.token_expires_at = access_token['expires_at']"
   ]
  },
  {
   "attachments": {},
   "cell_type": "markdown",
   "metadata": {},
   "source": [
    "## Collect activities in DataFrame"
   ]
  },
  {
   "cell_type": "code",
   "execution_count": null,
   "metadata": {},
   "outputs": [],
   "source": [
    "activities = client.get_activities(limit=5000)"
   ]
  },
  {
   "cell_type": "code",
   "execution_count": null,
   "metadata": {},
   "outputs": [],
   "source": [
    "my_cols =['name',\n",
    "          'start_date_local',\n",
    "          'type',\n",
    "          'distance',\n",
    "          'moving_time',\n",
    "          'elapsed_time',\n",
    "          'total_elevation_gain',\n",
    "          'elev_high',\n",
    "          'elev_low',\n",
    "          'average_speed',\n",
    "          'max_speed',\n",
    "          'average_heartrate',\n",
    "          'max_heartrate',\n",
    "          'start_latitude',\n",
    "          'start_longitude']"
   ]
  },
  {
   "cell_type": "code",
   "execution_count": null,
   "metadata": {},
   "outputs": [],
   "source": [
    "data = []\n",
    "for activity in activities:\n",
    "    my_dict = activity.to_dict()\n",
    "    data.append([activity.id]+[my_dict.get(x) for x in my_cols])\n",
    "    \n",
    "# Add id to the beginning of the columns, used when selecting a specific activity\n",
    "my_cols.insert(0,'id')"
   ]
  },
  {
   "cell_type": "code",
   "execution_count": null,
   "metadata": {},
   "outputs": [],
   "source": [
    "df = pd.DataFrame(data, columns=my_cols)\n",
    "df"
   ]
  },
  {
   "attachments": {},
   "cell_type": "markdown",
   "metadata": {},
   "source": [
    "## Add training types to activities\n",
    "\n",
    "| Training type | Activity types |\n",
    "| ------------ | ------------ |\n",
    "| C (Climbing) | RockClimbing |\n",
    "| AE (Aerobic endurance)| Ride, VirtualRide, Hike, Run, AlpineSki, BackcountrySki, Canoeing |\n",
    "| CE/S (Strength Training)| WeightTraining, Workout |\n",
    "| Recovery | Walk, Yoga |\n"
   ]
  },
  {
   "cell_type": "code",
   "execution_count": null,
   "metadata": {},
   "outputs": [],
   "source": [
    "df['type'].value_counts()"
   ]
  },
  {
   "cell_type": "code",
   "execution_count": null,
   "metadata": {},
   "outputs": [],
   "source": [
    "training_type_dict  = {'RockClimbing': 'C', 'Ride': 'AE', 'VirtualRide': 'AE', 'Hike': 'AE', 'Run': 'AE', 'AlpineSki': 'AE', 'BackcountrySki': 'AE', 'WeightTraining': 'CE/S', 'Workout': 'CE/S', 'Walk': 'Recovery', 'Yoga': 'Recovery', 'Canoeing': 'AE'}\n",
    "df['training_type'] = df['type'].apply(lambda x: training_type_dict.get(x))\n",
    "df['training_type'].value_counts()"
   ]
  },
  {
   "cell_type": "code",
   "execution_count": null,
   "metadata": {},
   "outputs": [],
   "source": [
    "df['day'] = df['start_date_local'].apply(lambda x: x.split(sep='T')[0])\n",
    "\n",
    "df['week'] = df['day'].apply(lambda x: datetime.datetime.fromisoformat(x).isocalendar()[1])\n",
    "df['year'] = df['day'].apply(lambda x: datetime.datetime.fromisoformat(x).isocalendar()[0])\n",
    "\n",
    "start_date_index = pd.DatetimeIndex(df['start_date_local'])\n",
    "df_timeindex = df.drop(columns='start_date_local')\n",
    "df_timeindex = df_timeindex.set_index(start_date_index)"
   ]
  },
  {
   "attachments": {},
   "cell_type": "markdown",
   "metadata": {},
   "source": [
    "### Progress in last weeks"
   ]
  },
  {
   "cell_type": "code",
   "execution_count": null,
   "metadata": {},
   "outputs": [],
   "source": [
    "df_weeksum = df_timeindex[['distance', 'moving_time', 'total_elevation_gain']].resample('W').sum()\n",
    "df_weeksum"
   ]
  },
  {
   "cell_type": "code",
   "execution_count": null,
   "metadata": {},
   "outputs": [],
   "source": [
    "df_vis = df_weeksum\n",
    "df_vis['moving_time_time_delta'] = df_vis['moving_time'].apply(lambda x: datetime.timedelta(seconds=x))\n",
    "df_vis['moving_time_time_delta']"
   ]
  },
  {
   "attachments": {},
   "cell_type": "markdown",
   "metadata": {},
   "source": [
    "### Visualisation"
   ]
  },
  {
   "cell_type": "code",
   "execution_count": null,
   "metadata": {},
   "outputs": [],
   "source": [
    "from matplotlib.ticker import FuncFormatter\n",
    "\n",
    "def format_func(x, pos):\n",
    "    hours = int(x//3600)\n",
    "    minutes = int((x%3600)//60)\n",
    "    seconds = int(x%60)\n",
    "\n",
    "    return \"{:d}:{:02d}\".format(hours, minutes)\n",
    "    # return \"{:d}:{:02d}:{:02d}\".format(hours, minutes, seconds)\n",
    "\n",
    "formatter = FuncFormatter(format_func)\n",
    "\n",
    "\n",
    "df_vis = df_weeksum.tail(104)\n",
    "# df_vis['moving_time_time_delta'] = df_vis['moving_time'].apply(lambda x: datetime.timedelta(seconds=x))\n",
    "\n",
    "fig, axes = plt.subplots(3, figsize = (9, 9))\n",
    "\n",
    "axes[0].bar(df_vis.index, df_vis.distance, width=7, align='edge', edgecolor='black', label='Total distance')\n",
    "axes[0].plot(df_vis.index, df_vis.distance.rolling(4).mean(), color='red', label='Moving average')\n",
    "axes[0].legend(loc='upper left')\n",
    "\n",
    "axes[1].bar(df_vis.index, df_vis.moving_time, width=7, align='edge', edgecolor='black', label='Moving time')\n",
    "axes[1].plot(df_vis.index, df_vis.moving_time.rolling(4).mean(), color='red', label='Moving average')\n",
    "axes[1].yaxis.set_major_formatter(formatter)\n",
    "axes[1].yaxis.set_major_locator(matplotlib.ticker.MultipleLocator(base=10800))\n",
    "axes[1].legend(loc='upper left')\n",
    "\n",
    "axes[2].bar(df_vis.index, df_vis.total_elevation_gain, width=7, align='edge', edgecolor='black', label='Total elevation gain')\n",
    "axes[2].plot(df_vis.index, df_vis.total_elevation_gain.rolling(4).mean(), color='red', label='Moving average')\n",
    "axes[2].legend(loc='upper left')"
   ]
  },
  {
   "attachments": {},
   "cell_type": "markdown",
   "metadata": {},
   "source": [
    "### Summary of last week"
   ]
  },
  {
   "cell_type": "code",
   "execution_count": null,
   "metadata": {},
   "outputs": [],
   "source": [
    "\n",
    "last_week = datetime.date.today() - datetime.timedelta(days=7)\n",
    "year = last_week.isocalendar()[0]\n",
    "week_number = last_week.isocalendar()[1]\n",
    "\n",
    "# Specify a different week here\n",
    "# year = 2023\n",
    "# week_number = 15\n",
    "\n",
    "last_monday = datetime.datetime.strptime(f'{year}-{week_number}-1', \"%Y-%W-%w\").date()\n",
    "last_monday_str = str(last_monday)\n",
    "last_sunday = last_monday + datetime.timedelta(days=6)\n",
    "last_sunday_str = str(last_sunday)\n",
    "\n",
    "print('Training data between', last_monday, 'and', last_sunday)\n",
    "\n",
    "df_lastweek = df.query('@last_monday_str <= day <= @last_sunday_str')"
   ]
  },
  {
   "cell_type": "code",
   "execution_count": null,
   "metadata": {},
   "outputs": [],
   "source": [
    "# Sum of training metrics\n",
    "\n",
    "df_lastweek[['distance', 'moving_time', 'total_elevation_gain', 'training_type']].groupby('training_type').sum()"
   ]
  },
  {
   "cell_type": "code",
   "execution_count": null,
   "metadata": {},
   "outputs": [],
   "source": [
    "# Median of training metrics\n",
    "\n",
    "df_lastweek[['average_heartrate', 'max_heartrate', 'average_speed', 'max_speed', 'training_type']].groupby('training_type').median()"
   ]
  },
  {
   "cell_type": "code",
   "execution_count": null,
   "metadata": {},
   "outputs": [],
   "source": []
  }
 ],
 "metadata": {
  "kernelspec": {
   "display_name": "env",
   "language": "python",
   "name": "python3"
  },
  "language_info": {
   "codemirror_mode": {
    "name": "ipython",
    "version": 3
   },
   "file_extension": ".py",
   "mimetype": "text/x-python",
   "name": "python",
   "nbconvert_exporter": "python",
   "pygments_lexer": "ipython3",
   "version": "3.10.6"
  },
  "vscode": {
   "interpreter": {
    "hash": "ef341708124b6a4023956a4431aa4d1f64fa3e843b1418eb575c4cbc1d168f7d"
   }
  }
 },
 "nbformat": 4,
 "nbformat_minor": 2
}
