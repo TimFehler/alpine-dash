{
 "cells": [
  {
   "attachments": {},
   "cell_type": "markdown",
   "metadata": {},
   "source": [
    "# Notebook for getting the inital access to athlete data"
   ]
  },
  {
   "cell_type": "code",
   "execution_count": null,
   "metadata": {},
   "outputs": [],
   "source": [
    "from stravalib import Client\n",
    "import json\n",
    "import pickle\n",
    "import os\n",
    "\n",
    "client = Client()\n",
    "\n",
    "MY_STRAVA_CLIENT_ID, MY_STRAVA_CLIENT_SECRET = open('access/client.secret').read().strip().split(',')\n",
    "print ('Client ID and secret read from file'.format(MY_STRAVA_CLIENT_ID))"
   ]
  },
  {
   "attachments": {},
   "cell_type": "markdown",
   "metadata": {},
   "source": [
    "Generate link to allow data access for user"
   ]
  },
  {
   "cell_type": "code",
   "execution_count": null,
   "metadata": {},
   "outputs": [],
   "source": [
    "url = client.authorization_url(client_id=MY_STRAVA_CLIENT_ID, redirect_uri='http://127.0.0.1:5000/authorization', scope=['read_all','profile:read_all','activity:read_all'])\n",
    "\n",
    "if not os.path.exists('access/response_code.json'):\n",
    "    open('access/response_code', 'w+').close()\n",
    "\n",
    "url"
   ]
  },
  {
   "attachments": {},
   "cell_type": "markdown",
   "metadata": {},
   "source": [
    "Now paste code part from redirect url into `access/response_code.json` to get inital access token"
   ]
  },
  {
   "cell_type": "code",
   "execution_count": null,
   "metadata": {},
   "outputs": [],
   "source": [
    "with open('access/response_code.json', 'r') as f:\n",
    "    CODE = str(json.load(f))\n",
    "\n",
    "access_token = client.exchange_code_for_token(client_id=MY_STRAVA_CLIENT_ID, client_secret=MY_STRAVA_CLIENT_SECRET, code=CODE)\n",
    "with open('access/access_token.pickle', 'wb') as f:\n",
    "    pickle.dump(access_token, f)"
   ]
  },
  {
   "cell_type": "code",
   "execution_count": null,
   "metadata": {},
   "outputs": [],
   "source": []
  }
 ],
 "metadata": {
  "kernelspec": {
   "display_name": "env",
   "language": "python",
   "name": "python3"
  },
  "language_info": {
   "codemirror_mode": {
    "name": "ipython",
    "version": 3
   },
   "file_extension": ".py",
   "mimetype": "text/x-python",
   "name": "python",
   "nbconvert_exporter": "python",
   "pygments_lexer": "ipython3",
   "version": "3.10.6"
  },
  "vscode": {
   "interpreter": {
    "hash": "ef341708124b6a4023956a4431aa4d1f64fa3e843b1418eb575c4cbc1d168f7d"
   }
  }
 },
 "nbformat": 4,
 "nbformat_minor": 2
}
